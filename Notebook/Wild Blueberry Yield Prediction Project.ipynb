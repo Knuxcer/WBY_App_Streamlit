{
 "cells": [
  {
   "cell_type": "code",
   "execution_count": 2,
   "id": "7ea54ee0",
   "metadata": {},
   "outputs": [],
   "source": [
    "import pandas as pd\n",
    "import numpy as np\n",
    "from sklearn.model_selection import train_test_split\n",
    "from sklearn.impute import SimpleImputer\n",
    "from sklearn.preprocessing import OneHotEncoder\n",
    "from category_encoders import TargetEncoder\n",
    "from sklearn.pipeline import Pipeline\n",
    "from sklearn.linear_model import Ridge\n",
    "from sklearn.linear_model import LinearRegression\n",
    "from sklearn.linear_model import Lasso\n",
    "from sklearn.linear_model import ElasticNet\n",
    "from sklearn.tree import DecisionTreeRegressor\n",
    "from sklearn.neighbors import KNeighborsRegressor\n",
    "from sklearn.svm import SVR\n",
    "from sklearn.ensemble import RandomForestRegressor\n",
    "from sklearn.ensemble import GradientBoostingRegressor\n",
    "from sklearn.ensemble import ExtraTreesRegressor\n",
    "from sklearn.ensemble import AdaBoostRegressor\n",
    "from sklearn.model_selection import KFold\n",
    "from sklearn.model_selection import cross_val_score\n",
    "from sklearn.compose import ColumnTransformer\n",
    "from sklearn.preprocessing import StandardScaler\n",
    "from sklearn.preprocessing import MinMaxScaler\n",
    "from sklearn.model_selection import GridSearchCV\n",
    "from sklearn.model_selection import RandomizedSearchCV\n",
    "from scipy.stats import randint, uniform\n",
    "from sklearn.metrics import mean_squared_error\n",
    "from catboost import CatBoostRegressor\n",
    "from xgboost import XGBRegressor\n",
    "from sklearn.preprocessing import RobustScaler\n",
    "\n",
    "import warnings\n",
    "warnings.filterwarnings('ignore')"
   ]
  },
  {
   "cell_type": "code",
   "execution_count": 3,
   "id": "23d9b0c2",
   "metadata": {},
   "outputs": [],
   "source": [
    "data = pd.read_csv(r'C:\\Users\\ketan\\Downloads\\WildBlueberryPollinationSimulationData.csv')"
   ]
  },
  {
   "cell_type": "code",
   "execution_count": 4,
   "id": "13c19e20",
   "metadata": {},
   "outputs": [
    {
     "data": {
      "text/html": [
       "<div>\n",
       "<style scoped>\n",
       "    .dataframe tbody tr th:only-of-type {\n",
       "        vertical-align: middle;\n",
       "    }\n",
       "\n",
       "    .dataframe tbody tr th {\n",
       "        vertical-align: top;\n",
       "    }\n",
       "\n",
       "    .dataframe thead th {\n",
       "        text-align: right;\n",
       "    }\n",
       "</style>\n",
       "<table border=\"1\" class=\"dataframe\">\n",
       "  <thead>\n",
       "    <tr style=\"text-align: right;\">\n",
       "      <th></th>\n",
       "      <th>Row#</th>\n",
       "      <th>clonesize</th>\n",
       "      <th>honeybee</th>\n",
       "      <th>bumbles</th>\n",
       "      <th>andrena</th>\n",
       "      <th>osmia</th>\n",
       "      <th>MaxOfUpperTRange</th>\n",
       "      <th>MinOfUpperTRange</th>\n",
       "      <th>AverageOfUpperTRange</th>\n",
       "      <th>MaxOfLowerTRange</th>\n",
       "      <th>MinOfLowerTRange</th>\n",
       "      <th>AverageOfLowerTRange</th>\n",
       "      <th>RainingDays</th>\n",
       "      <th>AverageRainingDays</th>\n",
       "      <th>fruitset</th>\n",
       "      <th>fruitmass</th>\n",
       "      <th>seeds</th>\n",
       "      <th>yield</th>\n",
       "    </tr>\n",
       "  </thead>\n",
       "  <tbody>\n",
       "    <tr>\n",
       "      <th>0</th>\n",
       "      <td>0</td>\n",
       "      <td>37.5</td>\n",
       "      <td>0.75</td>\n",
       "      <td>0.25</td>\n",
       "      <td>0.25</td>\n",
       "      <td>0.25</td>\n",
       "      <td>86.0</td>\n",
       "      <td>52.0</td>\n",
       "      <td>71.9</td>\n",
       "      <td>62.0</td>\n",
       "      <td>30.0</td>\n",
       "      <td>50.8</td>\n",
       "      <td>16.0</td>\n",
       "      <td>0.26</td>\n",
       "      <td>0.410652</td>\n",
       "      <td>0.408159</td>\n",
       "      <td>31.678898</td>\n",
       "      <td>3813.165795</td>\n",
       "    </tr>\n",
       "    <tr>\n",
       "      <th>1</th>\n",
       "      <td>1</td>\n",
       "      <td>37.5</td>\n",
       "      <td>0.75</td>\n",
       "      <td>0.25</td>\n",
       "      <td>0.25</td>\n",
       "      <td>0.25</td>\n",
       "      <td>86.0</td>\n",
       "      <td>52.0</td>\n",
       "      <td>71.9</td>\n",
       "      <td>62.0</td>\n",
       "      <td>30.0</td>\n",
       "      <td>50.8</td>\n",
       "      <td>1.0</td>\n",
       "      <td>0.10</td>\n",
       "      <td>0.444254</td>\n",
       "      <td>0.425458</td>\n",
       "      <td>33.449385</td>\n",
       "      <td>4947.605663</td>\n",
       "    </tr>\n",
       "    <tr>\n",
       "      <th>2</th>\n",
       "      <td>2</td>\n",
       "      <td>37.5</td>\n",
       "      <td>0.75</td>\n",
       "      <td>0.25</td>\n",
       "      <td>0.25</td>\n",
       "      <td>0.25</td>\n",
       "      <td>94.6</td>\n",
       "      <td>57.2</td>\n",
       "      <td>79.0</td>\n",
       "      <td>68.2</td>\n",
       "      <td>33.0</td>\n",
       "      <td>55.9</td>\n",
       "      <td>16.0</td>\n",
       "      <td>0.26</td>\n",
       "      <td>0.383787</td>\n",
       "      <td>0.399172</td>\n",
       "      <td>30.546306</td>\n",
       "      <td>3866.798965</td>\n",
       "    </tr>\n",
       "    <tr>\n",
       "      <th>3</th>\n",
       "      <td>3</td>\n",
       "      <td>37.5</td>\n",
       "      <td>0.75</td>\n",
       "      <td>0.25</td>\n",
       "      <td>0.25</td>\n",
       "      <td>0.25</td>\n",
       "      <td>94.6</td>\n",
       "      <td>57.2</td>\n",
       "      <td>79.0</td>\n",
       "      <td>68.2</td>\n",
       "      <td>33.0</td>\n",
       "      <td>55.9</td>\n",
       "      <td>1.0</td>\n",
       "      <td>0.10</td>\n",
       "      <td>0.407564</td>\n",
       "      <td>0.408789</td>\n",
       "      <td>31.562586</td>\n",
       "      <td>4303.943030</td>\n",
       "    </tr>\n",
       "    <tr>\n",
       "      <th>4</th>\n",
       "      <td>4</td>\n",
       "      <td>37.5</td>\n",
       "      <td>0.75</td>\n",
       "      <td>0.25</td>\n",
       "      <td>0.25</td>\n",
       "      <td>0.25</td>\n",
       "      <td>86.0</td>\n",
       "      <td>52.0</td>\n",
       "      <td>71.9</td>\n",
       "      <td>62.0</td>\n",
       "      <td>30.0</td>\n",
       "      <td>50.8</td>\n",
       "      <td>24.0</td>\n",
       "      <td>0.39</td>\n",
       "      <td>0.354413</td>\n",
       "      <td>0.382703</td>\n",
       "      <td>28.873714</td>\n",
       "      <td>3436.493543</td>\n",
       "    </tr>\n",
       "  </tbody>\n",
       "</table>\n",
       "</div>"
      ],
      "text/plain": [
       "   Row#  clonesize  honeybee  bumbles  andrena  osmia  MaxOfUpperTRange  \\\n",
       "0     0       37.5      0.75     0.25     0.25   0.25              86.0   \n",
       "1     1       37.5      0.75     0.25     0.25   0.25              86.0   \n",
       "2     2       37.5      0.75     0.25     0.25   0.25              94.6   \n",
       "3     3       37.5      0.75     0.25     0.25   0.25              94.6   \n",
       "4     4       37.5      0.75     0.25     0.25   0.25              86.0   \n",
       "\n",
       "   MinOfUpperTRange  AverageOfUpperTRange  MaxOfLowerTRange  MinOfLowerTRange  \\\n",
       "0              52.0                  71.9              62.0              30.0   \n",
       "1              52.0                  71.9              62.0              30.0   \n",
       "2              57.2                  79.0              68.2              33.0   \n",
       "3              57.2                  79.0              68.2              33.0   \n",
       "4              52.0                  71.9              62.0              30.0   \n",
       "\n",
       "   AverageOfLowerTRange  RainingDays  AverageRainingDays  fruitset  fruitmass  \\\n",
       "0                  50.8         16.0                0.26  0.410652   0.408159   \n",
       "1                  50.8          1.0                0.10  0.444254   0.425458   \n",
       "2                  55.9         16.0                0.26  0.383787   0.399172   \n",
       "3                  55.9          1.0                0.10  0.407564   0.408789   \n",
       "4                  50.8         24.0                0.39  0.354413   0.382703   \n",
       "\n",
       "       seeds        yield  \n",
       "0  31.678898  3813.165795  \n",
       "1  33.449385  4947.605663  \n",
       "2  30.546306  3866.798965  \n",
       "3  31.562586  4303.943030  \n",
       "4  28.873714  3436.493543  "
      ]
     },
     "execution_count": 4,
     "metadata": {},
     "output_type": "execute_result"
    }
   ],
   "source": [
    "data.head()"
   ]
  },
  {
   "cell_type": "code",
   "execution_count": 5,
   "id": "43fc95fa",
   "metadata": {},
   "outputs": [
    {
     "data": {
      "text/html": [
       "<div>\n",
       "<style scoped>\n",
       "    .dataframe tbody tr th:only-of-type {\n",
       "        vertical-align: middle;\n",
       "    }\n",
       "\n",
       "    .dataframe tbody tr th {\n",
       "        vertical-align: top;\n",
       "    }\n",
       "\n",
       "    .dataframe thead th {\n",
       "        text-align: right;\n",
       "    }\n",
       "</style>\n",
       "<table border=\"1\" class=\"dataframe\">\n",
       "  <thead>\n",
       "    <tr style=\"text-align: right;\">\n",
       "      <th></th>\n",
       "      <th>Row#</th>\n",
       "      <th>clonesize</th>\n",
       "      <th>honeybee</th>\n",
       "      <th>bumbles</th>\n",
       "      <th>andrena</th>\n",
       "      <th>osmia</th>\n",
       "      <th>MaxOfUpperTRange</th>\n",
       "      <th>MinOfUpperTRange</th>\n",
       "      <th>AverageOfUpperTRange</th>\n",
       "      <th>MaxOfLowerTRange</th>\n",
       "      <th>MinOfLowerTRange</th>\n",
       "      <th>AverageOfLowerTRange</th>\n",
       "      <th>RainingDays</th>\n",
       "      <th>AverageRainingDays</th>\n",
       "      <th>fruitset</th>\n",
       "      <th>fruitmass</th>\n",
       "      <th>seeds</th>\n",
       "      <th>yield</th>\n",
       "    </tr>\n",
       "  </thead>\n",
       "  <tbody>\n",
       "    <tr>\n",
       "      <th>772</th>\n",
       "      <td>772</td>\n",
       "      <td>10.0</td>\n",
       "      <td>0.537</td>\n",
       "      <td>0.117</td>\n",
       "      <td>0.409</td>\n",
       "      <td>0.058</td>\n",
       "      <td>86.0</td>\n",
       "      <td>52.0</td>\n",
       "      <td>71.9</td>\n",
       "      <td>62.0</td>\n",
       "      <td>30.0</td>\n",
       "      <td>50.8</td>\n",
       "      <td>3.77</td>\n",
       "      <td>0.06</td>\n",
       "      <td>0.486815</td>\n",
       "      <td>0.428012</td>\n",
       "      <td>33.447471</td>\n",
       "      <td>5333.873335</td>\n",
       "    </tr>\n",
       "    <tr>\n",
       "      <th>773</th>\n",
       "      <td>773</td>\n",
       "      <td>40.0</td>\n",
       "      <td>0.537</td>\n",
       "      <td>0.117</td>\n",
       "      <td>0.409</td>\n",
       "      <td>0.058</td>\n",
       "      <td>86.0</td>\n",
       "      <td>52.0</td>\n",
       "      <td>71.9</td>\n",
       "      <td>62.0</td>\n",
       "      <td>30.0</td>\n",
       "      <td>50.8</td>\n",
       "      <td>3.77</td>\n",
       "      <td>0.06</td>\n",
       "      <td>0.342841</td>\n",
       "      <td>0.377915</td>\n",
       "      <td>28.462005</td>\n",
       "      <td>3373.436842</td>\n",
       "    </tr>\n",
       "    <tr>\n",
       "      <th>774</th>\n",
       "      <td>774</td>\n",
       "      <td>20.0</td>\n",
       "      <td>0.537</td>\n",
       "      <td>0.117</td>\n",
       "      <td>0.409</td>\n",
       "      <td>0.058</td>\n",
       "      <td>86.0</td>\n",
       "      <td>52.0</td>\n",
       "      <td>71.9</td>\n",
       "      <td>62.0</td>\n",
       "      <td>30.0</td>\n",
       "      <td>50.8</td>\n",
       "      <td>24.00</td>\n",
       "      <td>0.39</td>\n",
       "      <td>0.404617</td>\n",
       "      <td>0.401670</td>\n",
       "      <td>30.748240</td>\n",
       "      <td>4203.027624</td>\n",
       "    </tr>\n",
       "    <tr>\n",
       "      <th>775</th>\n",
       "      <td>775</td>\n",
       "      <td>20.0</td>\n",
       "      <td>0.537</td>\n",
       "      <td>0.117</td>\n",
       "      <td>0.409</td>\n",
       "      <td>0.058</td>\n",
       "      <td>89.0</td>\n",
       "      <td>39.0</td>\n",
       "      <td>65.6</td>\n",
       "      <td>66.0</td>\n",
       "      <td>28.0</td>\n",
       "      <td>45.3</td>\n",
       "      <td>3.77</td>\n",
       "      <td>0.06</td>\n",
       "      <td>0.401538</td>\n",
       "      <td>0.399935</td>\n",
       "      <td>30.582161</td>\n",
       "      <td>4166.299735</td>\n",
       "    </tr>\n",
       "    <tr>\n",
       "      <th>776</th>\n",
       "      <td>776</td>\n",
       "      <td>20.0</td>\n",
       "      <td>0.537</td>\n",
       "      <td>0.117</td>\n",
       "      <td>0.409</td>\n",
       "      <td>0.058</td>\n",
       "      <td>89.0</td>\n",
       "      <td>39.0</td>\n",
       "      <td>65.6</td>\n",
       "      <td>66.0</td>\n",
       "      <td>28.0</td>\n",
       "      <td>45.3</td>\n",
       "      <td>24.00</td>\n",
       "      <td>0.39</td>\n",
       "      <td>0.384646</td>\n",
       "      <td>0.392303</td>\n",
       "      <td>29.742583</td>\n",
       "      <td>3943.131681</td>\n",
       "    </tr>\n",
       "  </tbody>\n",
       "</table>\n",
       "</div>"
      ],
      "text/plain": [
       "     Row#  clonesize  honeybee  bumbles  andrena  osmia  MaxOfUpperTRange  \\\n",
       "772   772       10.0     0.537    0.117    0.409  0.058              86.0   \n",
       "773   773       40.0     0.537    0.117    0.409  0.058              86.0   \n",
       "774   774       20.0     0.537    0.117    0.409  0.058              86.0   \n",
       "775   775       20.0     0.537    0.117    0.409  0.058              89.0   \n",
       "776   776       20.0     0.537    0.117    0.409  0.058              89.0   \n",
       "\n",
       "     MinOfUpperTRange  AverageOfUpperTRange  MaxOfLowerTRange  \\\n",
       "772              52.0                  71.9              62.0   \n",
       "773              52.0                  71.9              62.0   \n",
       "774              52.0                  71.9              62.0   \n",
       "775              39.0                  65.6              66.0   \n",
       "776              39.0                  65.6              66.0   \n",
       "\n",
       "     MinOfLowerTRange  AverageOfLowerTRange  RainingDays  AverageRainingDays  \\\n",
       "772              30.0                  50.8         3.77                0.06   \n",
       "773              30.0                  50.8         3.77                0.06   \n",
       "774              30.0                  50.8        24.00                0.39   \n",
       "775              28.0                  45.3         3.77                0.06   \n",
       "776              28.0                  45.3        24.00                0.39   \n",
       "\n",
       "     fruitset  fruitmass      seeds        yield  \n",
       "772  0.486815   0.428012  33.447471  5333.873335  \n",
       "773  0.342841   0.377915  28.462005  3373.436842  \n",
       "774  0.404617   0.401670  30.748240  4203.027624  \n",
       "775  0.401538   0.399935  30.582161  4166.299735  \n",
       "776  0.384646   0.392303  29.742583  3943.131681  "
      ]
     },
     "execution_count": 5,
     "metadata": {},
     "output_type": "execute_result"
    }
   ],
   "source": [
    "data.tail()"
   ]
  },
  {
   "cell_type": "code",
   "execution_count": 6,
   "id": "bd1177da",
   "metadata": {},
   "outputs": [
    {
     "data": {
      "text/plain": [
       "Row#                    0\n",
       "clonesize               0\n",
       "honeybee                0\n",
       "bumbles                 0\n",
       "andrena                 0\n",
       "osmia                   0\n",
       "MaxOfUpperTRange        0\n",
       "MinOfUpperTRange        0\n",
       "AverageOfUpperTRange    0\n",
       "MaxOfLowerTRange        0\n",
       "MinOfLowerTRange        0\n",
       "AverageOfLowerTRange    0\n",
       "RainingDays             0\n",
       "AverageRainingDays      0\n",
       "fruitset                0\n",
       "fruitmass               0\n",
       "seeds                   0\n",
       "yield                   0\n",
       "dtype: int64"
      ]
     },
     "execution_count": 6,
     "metadata": {},
     "output_type": "execute_result"
    }
   ],
   "source": [
    "data.isna().sum()"
   ]
  },
  {
   "cell_type": "code",
   "execution_count": 7,
   "id": "e5120adf",
   "metadata": {},
   "outputs": [
    {
     "data": {
      "text/plain": [
       "Row#                   -0.024942\n",
       "clonesize              -0.516737\n",
       "honeybee               -0.044250\n",
       "bumbles                 0.309407\n",
       "andrena                 0.140277\n",
       "osmia                   0.380892\n",
       "MaxOfUpperTRange       -0.187075\n",
       "MinOfUpperTRange       -0.175883\n",
       "AverageOfUpperTRange   -0.181774\n",
       "MaxOfLowerTRange       -0.187439\n",
       "MinOfLowerTRange       -0.183339\n",
       "AverageOfLowerTRange   -0.181293\n",
       "RainingDays            -0.540069\n",
       "AverageRainingDays     -0.541215\n",
       "fruitset                0.984081\n",
       "fruitmass               0.930365\n",
       "seeds                   0.961249\n",
       "yield                   1.000000\n",
       "Name: yield, dtype: float64"
      ]
     },
     "execution_count": 7,
     "metadata": {},
     "output_type": "execute_result"
    }
   ],
   "source": [
    "data.corr()['yield']"
   ]
  },
  {
   "cell_type": "code",
   "execution_count": 8,
   "id": "38ea3751",
   "metadata": {},
   "outputs": [],
   "source": [
    "data.drop(columns=['Row#','honeybee','MaxOfUpperTRange','MinOfUpperTRange','MaxOfLowerTRange','MinOfLowerTRange','RainingDays','fruitset','fruitmass','seeds'],inplace=True)"
   ]
  },
  {
   "cell_type": "code",
   "execution_count": 9,
   "id": "bc155b97",
   "metadata": {},
   "outputs": [],
   "source": [
    "#,'honeybee','MaxOfUpperTRange','MinOfUpperTRange','MaxOfLowerTRange','MinOfLowerTRange','RainingDays'"
   ]
  },
  {
   "cell_type": "code",
   "execution_count": 10,
   "id": "7d497e40",
   "metadata": {},
   "outputs": [],
   "source": [
    "X = data.iloc[:,:-1]\n",
    "y = data.iloc[:,-1]"
   ]
  },
  {
   "cell_type": "code",
   "execution_count": 11,
   "id": "2918e705",
   "metadata": {},
   "outputs": [],
   "source": [
    "X_train,X_test,y_train,y_test = train_test_split(X,y,test_size=0.2,random_state=7)"
   ]
  },
  {
   "cell_type": "code",
   "execution_count": 12,
   "id": "1532747a",
   "metadata": {
    "scrolled": true
   },
   "outputs": [
    {
     "data": {
      "text/html": [
       "<div>\n",
       "<style scoped>\n",
       "    .dataframe tbody tr th:only-of-type {\n",
       "        vertical-align: middle;\n",
       "    }\n",
       "\n",
       "    .dataframe tbody tr th {\n",
       "        vertical-align: top;\n",
       "    }\n",
       "\n",
       "    .dataframe thead th {\n",
       "        text-align: right;\n",
       "    }\n",
       "</style>\n",
       "<table border=\"1\" class=\"dataframe\">\n",
       "  <thead>\n",
       "    <tr style=\"text-align: right;\">\n",
       "      <th></th>\n",
       "      <th>clonesize</th>\n",
       "      <th>bumbles</th>\n",
       "      <th>andrena</th>\n",
       "      <th>osmia</th>\n",
       "      <th>AverageOfUpperTRange</th>\n",
       "      <th>AverageOfLowerTRange</th>\n",
       "      <th>AverageRainingDays</th>\n",
       "    </tr>\n",
       "  </thead>\n",
       "  <tbody>\n",
       "    <tr>\n",
       "      <th>count</th>\n",
       "      <td>621.000000</td>\n",
       "      <td>621.000000</td>\n",
       "      <td>621.000000</td>\n",
       "      <td>621.000000</td>\n",
       "      <td>621.000000</td>\n",
       "      <td>621.000000</td>\n",
       "      <td>621.000000</td>\n",
       "    </tr>\n",
       "    <tr>\n",
       "      <th>mean</th>\n",
       "      <td>18.848631</td>\n",
       "      <td>0.283404</td>\n",
       "      <td>0.462916</td>\n",
       "      <td>0.565037</td>\n",
       "      <td>68.975845</td>\n",
       "      <td>48.794525</td>\n",
       "      <td>0.323172</td>\n",
       "    </tr>\n",
       "    <tr>\n",
       "      <th>std</th>\n",
       "      <td>7.098304</td>\n",
       "      <td>0.065366</td>\n",
       "      <td>0.159350</td>\n",
       "      <td>0.164676</td>\n",
       "      <td>7.780324</td>\n",
       "      <td>5.489468</td>\n",
       "      <td>0.172285</td>\n",
       "    </tr>\n",
       "    <tr>\n",
       "      <th>min</th>\n",
       "      <td>10.000000</td>\n",
       "      <td>0.000000</td>\n",
       "      <td>0.000000</td>\n",
       "      <td>0.000000</td>\n",
       "      <td>58.200000</td>\n",
       "      <td>41.200000</td>\n",
       "      <td>0.060000</td>\n",
       "    </tr>\n",
       "    <tr>\n",
       "      <th>25%</th>\n",
       "      <td>12.500000</td>\n",
       "      <td>0.250000</td>\n",
       "      <td>0.380000</td>\n",
       "      <td>0.500000</td>\n",
       "      <td>64.700000</td>\n",
       "      <td>45.800000</td>\n",
       "      <td>0.100000</td>\n",
       "    </tr>\n",
       "    <tr>\n",
       "      <th>50%</th>\n",
       "      <td>12.500000</td>\n",
       "      <td>0.250000</td>\n",
       "      <td>0.500000</td>\n",
       "      <td>0.630000</td>\n",
       "      <td>71.900000</td>\n",
       "      <td>50.800000</td>\n",
       "      <td>0.260000</td>\n",
       "    </tr>\n",
       "    <tr>\n",
       "      <th>75%</th>\n",
       "      <td>25.000000</td>\n",
       "      <td>0.380000</td>\n",
       "      <td>0.630000</td>\n",
       "      <td>0.750000</td>\n",
       "      <td>79.000000</td>\n",
       "      <td>55.900000</td>\n",
       "      <td>0.560000</td>\n",
       "    </tr>\n",
       "    <tr>\n",
       "      <th>max</th>\n",
       "      <td>40.000000</td>\n",
       "      <td>0.585000</td>\n",
       "      <td>0.750000</td>\n",
       "      <td>0.750000</td>\n",
       "      <td>79.000000</td>\n",
       "      <td>55.900000</td>\n",
       "      <td>0.560000</td>\n",
       "    </tr>\n",
       "  </tbody>\n",
       "</table>\n",
       "</div>"
      ],
      "text/plain": [
       "        clonesize     bumbles     andrena       osmia  AverageOfUpperTRange  \\\n",
       "count  621.000000  621.000000  621.000000  621.000000            621.000000   \n",
       "mean    18.848631    0.283404    0.462916    0.565037             68.975845   \n",
       "std      7.098304    0.065366    0.159350    0.164676              7.780324   \n",
       "min     10.000000    0.000000    0.000000    0.000000             58.200000   \n",
       "25%     12.500000    0.250000    0.380000    0.500000             64.700000   \n",
       "50%     12.500000    0.250000    0.500000    0.630000             71.900000   \n",
       "75%     25.000000    0.380000    0.630000    0.750000             79.000000   \n",
       "max     40.000000    0.585000    0.750000    0.750000             79.000000   \n",
       "\n",
       "       AverageOfLowerTRange  AverageRainingDays  \n",
       "count            621.000000          621.000000  \n",
       "mean              48.794525            0.323172  \n",
       "std                5.489468            0.172285  \n",
       "min               41.200000            0.060000  \n",
       "25%               45.800000            0.100000  \n",
       "50%               50.800000            0.260000  \n",
       "75%               55.900000            0.560000  \n",
       "max               55.900000            0.560000  "
      ]
     },
     "execution_count": 12,
     "metadata": {},
     "output_type": "execute_result"
    }
   ],
   "source": [
    "X_train.describe()"
   ]
  },
  {
   "cell_type": "code",
   "execution_count": 13,
   "id": "ce78306a",
   "metadata": {},
   "outputs": [],
   "source": [
    "y_train_log = np.log10(y_train)\n",
    "y_test_log = np.log10(y_test)"
   ]
  },
  {
   "cell_type": "code",
   "execution_count": 14,
   "id": "230d64d5",
   "metadata": {},
   "outputs": [],
   "source": [
    "reg = XGBRegressor()\n",
    "scaler = MinMaxScaler()\n",
    "pipe = Pipeline([('s',scaler),('r',reg)])"
   ]
  },
  {
   "cell_type": "code",
   "execution_count": 15,
   "id": "63df0942",
   "metadata": {},
   "outputs": [
    {
     "data": {
      "text/plain": [
       "-0.024441631966592103"
      ]
     },
     "execution_count": 15,
     "metadata": {},
     "output_type": "execute_result"
    }
   ],
   "source": [
    "kfold = KFold(n_splits=5, shuffle=True, random_state=42)\n",
    "results = cross_val_score(pipe, X_train, y_train_log, cv=kfold,scoring = 'neg_root_mean_squared_error')\n",
    "results.mean()"
   ]
  },
  {
   "cell_type": "code",
   "execution_count": 16,
   "id": "bcba4a31",
   "metadata": {},
   "outputs": [
    {
     "data": {
      "text/plain": [
       "Pipeline(steps=[('s', MinMaxScaler()),\n",
       "                ('r',\n",
       "                 XGBRegressor(base_score=None, booster=None, callbacks=None,\n",
       "                              colsample_bylevel=None, colsample_bynode=None,\n",
       "                              colsample_bytree=None, early_stopping_rounds=None,\n",
       "                              enable_categorical=False, eval_metric=None,\n",
       "                              feature_types=None, gamma=None, gpu_id=None,\n",
       "                              grow_policy=None, importance_type=None,\n",
       "                              interaction_constraints=None, learning_rate=None,\n",
       "                              max_bin=None, max_cat_threshold=None,\n",
       "                              max_cat_to_onehot=None, max_delta_step=None,\n",
       "                              max_depth=None, max_leaves=None,\n",
       "                              min_child_weight=None, missing=nan,\n",
       "                              monotone_constraints=None, n_estimators=100,\n",
       "                              n_jobs=None, num_parallel_tree=None,\n",
       "                              predictor=None, random_state=None, ...))])"
      ]
     },
     "execution_count": 16,
     "metadata": {},
     "output_type": "execute_result"
    }
   ],
   "source": [
    "pipe.fit(X_train, y_train_log)"
   ]
  },
  {
   "cell_type": "code",
   "execution_count": 17,
   "id": "3c86b468",
   "metadata": {},
   "outputs": [
    {
     "data": {
      "text/plain": [
       "0.052268708123401425"
      ]
     },
     "execution_count": 17,
     "metadata": {},
     "output_type": "execute_result"
    }
   ],
   "source": [
    "y_pred = pipe.predict(X_test)\n",
    "np.sqrt(mean_squared_error(y_test_log,y_pred))"
   ]
  },
  {
   "cell_type": "code",
   "execution_count": 19,
   "id": "2e6fc574",
   "metadata": {},
   "outputs": [],
   "source": [
    "l = [CatBoostRegressor(),XGBRegressor(),GradientBoostingRegressor(),RandomForestRegressor()]"
   ]
  },
  {
   "cell_type": "code",
   "execution_count": 20,
   "id": "bffe52b5",
   "metadata": {},
   "outputs": [],
   "source": [
    "values_without_taking_log_of_y = [(267.4846952630972,443.96941114327166),(301.96003201499434,476.55367210375215),(288.81948254668595,438.33681628173304),(322.92929253904873,454.15526779919935)]"
   ]
  },
  {
   "cell_type": "code",
   "execution_count": 19,
   "id": "49fc642a",
   "metadata": {},
   "outputs": [],
   "source": [
    "param_grid = {\n",
    "    'learning_rate': [0.01, 0.1, 0.2],\n",
    "    'n_estimators': [100, 200, 300],\n",
    "    'max_depth': [3, 5, 7],\n",
    "    'min_child_weight': [1, 3, 5],\n",
    "    'subsample': [0.8, 0.9, 1.0],\n",
    "    'colsample_bytree': [0.8, 0.9, 1.0]\n",
    "}"
   ]
  },
  {
   "cell_type": "code",
   "execution_count": 20,
   "id": "1b817c67",
   "metadata": {},
   "outputs": [],
   "source": [
    "reg_tune = XGBRegressor()"
   ]
  },
  {
   "cell_type": "code",
   "execution_count": 21,
   "id": "63932b29",
   "metadata": {},
   "outputs": [],
   "source": [
    "grid_search = GridSearchCV(reg_tune, param_grid, cv=5, scoring='neg_mean_squared_error')"
   ]
  },
  {
   "cell_type": "code",
   "execution_count": 22,
   "id": "53b531e1",
   "metadata": {},
   "outputs": [
    {
     "data": {
      "text/plain": [
       "GridSearchCV(cv=5,\n",
       "             estimator=XGBRegressor(base_score=None, booster=None,\n",
       "                                    callbacks=None, colsample_bylevel=None,\n",
       "                                    colsample_bynode=None,\n",
       "                                    colsample_bytree=None,\n",
       "                                    early_stopping_rounds=None,\n",
       "                                    enable_categorical=False, eval_metric=None,\n",
       "                                    feature_types=None, gamma=None, gpu_id=None,\n",
       "                                    grow_policy=None, importance_type=None,\n",
       "                                    interaction_constraints=None,\n",
       "                                    learning_rate=None, m...\n",
       "                                    min_child_weight=None, missing=nan,\n",
       "                                    monotone_constraints=None, n_estimators=100,\n",
       "                                    n_jobs=None, num_parallel_tree=None,\n",
       "                                    predictor=None, random_state=None, ...),\n",
       "             param_grid={'colsample_bytree': [0.8, 0.9, 1.0],\n",
       "                         'learning_rate': [0.01, 0.1, 0.2],\n",
       "                         'max_depth': [3, 5, 7], 'min_child_weight': [1, 3, 5],\n",
       "                         'n_estimators': [100, 200, 300],\n",
       "                         'subsample': [0.8, 0.9, 1.0]},\n",
       "             scoring='neg_mean_squared_error')"
      ]
     },
     "execution_count": 22,
     "metadata": {},
     "output_type": "execute_result"
    }
   ],
   "source": [
    "grid_search.fit(X_train, y_train_log)"
   ]
  },
  {
   "cell_type": "code",
   "execution_count": 23,
   "id": "9ccbeec8",
   "metadata": {},
   "outputs": [],
   "source": [
    "best_params = grid_search.best_params_"
   ]
  },
  {
   "cell_type": "code",
   "execution_count": 24,
   "id": "d29e8316",
   "metadata": {},
   "outputs": [],
   "source": [
    "best_xgb_model = XGBRegressor(**best_params)\n",
    "pipe2 = Pipeline([('s',scaler),('b',best_xgb_model)])\n",
    "pipe2.fit(X_train, y_train_log)\n",
    "pred = pipe2.predict(X_test)"
   ]
  },
  {
   "cell_type": "code",
   "execution_count": 25,
   "id": "23cf72d7",
   "metadata": {},
   "outputs": [
    {
     "data": {
      "text/plain": [
       "0.05104623215699749"
      ]
     },
     "execution_count": 25,
     "metadata": {},
     "output_type": "execute_result"
    }
   ],
   "source": [
    "np.sqrt(mean_squared_error(y_test_log,pred))"
   ]
  },
  {
   "cell_type": "code",
   "execution_count": 18,
   "id": "a6ae955c",
   "metadata": {},
   "outputs": [],
   "source": [
    "param_grid2 = {\n",
    "    'n_estimators': [50, 100, 150],\n",
    "    'max_depth': [None, 10, 20],\n",
    "    'min_samples_split': [2, 5, 10],\n",
    "    'min_samples_leaf': [1, 2, 4],\n",
    "    'max_features': ['auto', 'sqrt']\n",
    "}"
   ]
  },
  {
   "cell_type": "code",
   "execution_count": 19,
   "id": "f210f74e",
   "metadata": {},
   "outputs": [],
   "source": [
    "rf_model = RandomForestRegressor()"
   ]
  },
  {
   "cell_type": "code",
   "execution_count": 20,
   "id": "4041a155",
   "metadata": {},
   "outputs": [],
   "source": [
    "grid_search2 = GridSearchCV(\n",
    "    rf_model,\n",
    "    param_grid=param_grid2,\n",
    "    cv=5,                      # Number of cross-validation folds\n",
    "    scoring='neg_mean_squared_error',\n",
    "    n_jobs=-1                  # Number of CPU cores to use (-1 means all available cores)\n",
    ")"
   ]
  },
  {
   "cell_type": "code",
   "execution_count": 21,
   "id": "140acf3c",
   "metadata": {},
   "outputs": [
    {
     "data": {
      "text/plain": [
       "GridSearchCV(cv=5, estimator=RandomForestRegressor(), n_jobs=-1,\n",
       "             param_grid={'max_depth': [None, 10, 20],\n",
       "                         'max_features': ['auto', 'sqrt'],\n",
       "                         'min_samples_leaf': [1, 2, 4],\n",
       "                         'min_samples_split': [2, 5, 10],\n",
       "                         'n_estimators': [50, 100, 150]},\n",
       "             scoring='neg_mean_squared_error')"
      ]
     },
     "execution_count": 21,
     "metadata": {},
     "output_type": "execute_result"
    }
   ],
   "source": [
    "grid_search2.fit(X_train, y_train_log)"
   ]
  },
  {
   "cell_type": "code",
   "execution_count": 22,
   "id": "ed1ed836",
   "metadata": {},
   "outputs": [],
   "source": [
    "best_params2 = grid_search2.best_params_"
   ]
  },
  {
   "cell_type": "code",
   "execution_count": 23,
   "id": "344c622b",
   "metadata": {},
   "outputs": [],
   "source": [
    "best_rf_model = RandomForestRegressor(**best_params2)\n",
    "pipe3 = Pipeline([('s',scaler),('b',best_rf_model)])\n",
    "pipe3.fit(X_train, y_train_log)\n",
    "pred2 = pipe3.predict(X_test)"
   ]
  },
  {
   "cell_type": "code",
   "execution_count": 24,
   "id": "c4c33935",
   "metadata": {
    "scrolled": true
   },
   "outputs": [
    {
     "data": {
      "text/plain": [
       "0.05037290719450638"
      ]
     },
     "execution_count": 24,
     "metadata": {},
     "output_type": "execute_result"
    }
   ],
   "source": [
    "np.sqrt(mean_squared_error(y_test_log,pred2))"
   ]
  },
  {
   "cell_type": "code",
   "execution_count": 33,
   "id": "b5d6f72b",
   "metadata": {},
   "outputs": [],
   "source": [
    "gb_model = GradientBoostingRegressor()\n",
    "\n",
    "param_grid3 = {\n",
    "    'learning_rate': [0.01, 0.02, 0.05,0.1,0.3],\n",
    "    'n_estimators': [100, 200, 300],\n",
    "    'max_depth': [3, 5, 7],\n",
    "    'min_samples_split': [2, 5, 10],\n",
    "    'min_samples_leaf': [1, 2, 4],\n",
    "    'subsample': [0.8, 1.0],\n",
    "}\n",
    "\n",
    "grid_search3 = GridSearchCV(\n",
    "    gb_model,\n",
    "    param_grid=param_grid3,\n",
    "    cv=5,\n",
    "    scoring='neg_mean_squared_error',\n",
    "    n_jobs=-1\n",
    ")\n",
    "\n",
    "grid_search3.fit(X_train, y_train_log)\n",
    "\n",
    "best_params3 = grid_search3.best_params_\n",
    "\n",
    "best_gb_model = GradientBoostingRegressor(**best_params3)\n",
    "pipe4 = Pipeline([('s',scaler),('b',best_gb_model)])\n",
    "pipe4.fit(X_train, y_train_log)\n",
    "pred3 = pipe4.predict(X_test)"
   ]
  },
  {
   "cell_type": "code",
   "execution_count": 34,
   "id": "08b483be",
   "metadata": {},
   "outputs": [
    {
     "data": {
      "text/plain": [
       "0.051004621382166423"
      ]
     },
     "execution_count": 34,
     "metadata": {},
     "output_type": "execute_result"
    }
   ],
   "source": [
    "np.sqrt(mean_squared_error(y_test_log,pred3))"
   ]
  },
  {
   "cell_type": "code",
   "execution_count": null,
   "id": "25071a56",
   "metadata": {},
   "outputs": [],
   "source": []
  },
  {
   "cell_type": "code",
   "execution_count": null,
   "id": "43a6fe98",
   "metadata": {},
   "outputs": [],
   "source": []
  },
  {
   "cell_type": "code",
   "execution_count": 1,
   "id": "4beb6592",
   "metadata": {},
   "outputs": [],
   "source": [
    "#For deployement purpose"
   ]
  },
  {
   "cell_type": "code",
   "execution_count": 25,
   "id": "6f52ea87",
   "metadata": {},
   "outputs": [
    {
     "data": {
      "text/plain": [
       "Pipeline(steps=[('s', MinMaxScaler()),\n",
       "                ('b', RandomForestRegressor(max_depth=10))])"
      ]
     },
     "execution_count": 25,
     "metadata": {},
     "output_type": "execute_result"
    }
   ],
   "source": [
    "pipe3.fit(X_test,y_test_log)"
   ]
  },
  {
   "cell_type": "code",
   "execution_count": 26,
   "id": "6a1c37fb",
   "metadata": {},
   "outputs": [],
   "source": [
    "import joblib"
   ]
  },
  {
   "cell_type": "code",
   "execution_count": 27,
   "id": "cd58028b",
   "metadata": {},
   "outputs": [
    {
     "data": {
      "text/plain": [
       "['WBY_Prediction.joblib']"
      ]
     },
     "execution_count": 27,
     "metadata": {},
     "output_type": "execute_result"
    }
   ],
   "source": [
    "joblib.dump(pipe3,'WBY_Prediction.joblib')"
   ]
  },
  {
   "cell_type": "code",
   "execution_count": 32,
   "id": "7f0ab6eb",
   "metadata": {},
   "outputs": [
    {
     "data": {
      "text/plain": [
       "'1.4.4'"
      ]
     },
     "execution_count": 32,
     "metadata": {},
     "output_type": "execute_result"
    }
   ],
   "source": [
    "import pandas\n",
    "pandas.__version__"
   ]
  },
  {
   "cell_type": "code",
   "execution_count": null,
   "id": "bfb42f41",
   "metadata": {},
   "outputs": [],
   "source": []
  }
 ],
 "metadata": {
  "kernelspec": {
   "display_name": "Python 3 (ipykernel)",
   "language": "python",
   "name": "python3"
  },
  "language_info": {
   "codemirror_mode": {
    "name": "ipython",
    "version": 3
   },
   "file_extension": ".py",
   "mimetype": "text/x-python",
   "name": "python",
   "nbconvert_exporter": "python",
   "pygments_lexer": "ipython3",
   "version": "3.9.13"
  }
 },
 "nbformat": 4,
 "nbformat_minor": 5
}
